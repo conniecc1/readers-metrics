{
 "cells": [
  {
   "cell_type": "code",
   "execution_count": 2,
   "metadata": {},
   "outputs": [
    {
     "name": "stderr",
     "output_type": "stream",
     "text": [
      "You are using wmfdata 0.1.0 (latest).\n",
      "\n",
      "You can find the source for `wmfdata` at https://github.com/neilpquinn/wmfdata\n"
     ]
    }
   ],
   "source": [
    "from functools import reduce\n",
    "\n",
    "from cycler import cycler\n",
    "from dateutil.relativedelta import relativedelta\n",
    "import matplotlib.pyplot as plt\n",
    "from numbers import Number\n",
    "import numpy as np\n",
    "import pandas as pd\n",
    "#from scipy import stats as sstats\n",
    "import wmfdata as wmf\n",
    "from wmfdata.utils import pct_str, sig_figs\n",
    "from wmfdata.charting import pct_fmt, M_fmt, comma_fmt"
   ]
  },
  {
   "cell_type": "code",
   "execution_count": 3,
   "metadata": {},
   "outputs": [],
   "source": [
    "FILE = \"metrics/metrics.tsv\"\n",
    "metrics = pd.read_csv(FILE, sep=\"\\t\", parse_dates=[\"month\"]).set_index(\"month\")"
   ]
  },
  {
   "cell_type": "markdown",
   "metadata": {},
   "source": [
    "# Report"
   ]
  },
  {
   "cell_type": "code",
   "execution_count": 4,
   "metadata": {},
   "outputs": [],
   "source": [
    "report_order = [\n",
    "    'interactions', \n",
    "        'total_pageview',\n",
    "        'desktop', \n",
    "        'mobileweb',\n",
    "        'previews_seen',\n",
    "    'unique_devices',\n",
    "    # Global South countries\n",
    "    'gs_interactions',\n",
    "    # Mobile-heavy wikis\n",
    "    'mh_interactions'\n",
    "]"
   ]
  },
  {
   "cell_type": "code",
   "execution_count": 5,
   "metadata": {},
   "outputs": [],
   "source": [
    "def fmt_num(x):\n",
    "    if isinstance(x, Number) and not pd.isnull(x):\n",
    "        x = sig_figs(x, 3)\n",
    "        \n",
    "        if x < 5:\n",
    "            return pct_str(x)\n",
    "        else:\n",
    "            return \"{:,.0f}\".format(x)\n",
    "    else:\n",
    "        return x\n",
    "\n",
    "def calc_rpt(ser):   \n",
    "    cur = ser[-1]\n",
    "    \n",
    "    try:\n",
    "        yr_prev = ser[-13]\n",
    "        yoy_change = (cur / yr_prev) - 1\n",
    "    except IndexError:\n",
    "        yoy_change = None\n",
    "    \n",
    "        \n",
    "    \n",
    "    res = [cur, yoy_change]\n",
    "    return pd.Series(\n",
    "        [fmt_num(n) for n in res],\n",
    "        index=[\"value\", \"yoy_change\"]\n",
    "    )"
   ]
  },
  {
   "cell_type": "code",
   "execution_count": 6,
   "metadata": {},
   "outputs": [
    {
     "data": {
      "text/html": [
       "<div>\n",
       "<style scoped>\n",
       "    .dataframe tbody tr th:only-of-type {\n",
       "        vertical-align: middle;\n",
       "    }\n",
       "\n",
       "    .dataframe tbody tr th {\n",
       "        vertical-align: top;\n",
       "    }\n",
       "\n",
       "    .dataframe thead th {\n",
       "        text-align: right;\n",
       "    }\n",
       "</style>\n",
       "<table border=\"1\" class=\"dataframe\">\n",
       "  <thead>\n",
       "    <tr style=\"text-align: right;\">\n",
       "      <th></th>\n",
       "      <th>value</th>\n",
       "      <th>yoy_change</th>\n",
       "    </tr>\n",
       "  </thead>\n",
       "  <tbody>\n",
       "    <tr>\n",
       "      <th>interactions</th>\n",
       "      <td>17,700,000,000</td>\n",
       "      <td>5.6%</td>\n",
       "    </tr>\n",
       "    <tr>\n",
       "      <th>total_pageview</th>\n",
       "      <td>15,700,000,000</td>\n",
       "      <td>5.0%</td>\n",
       "    </tr>\n",
       "    <tr>\n",
       "      <th>desktop</th>\n",
       "      <td>6,140,000,000</td>\n",
       "      <td>-1.9%</td>\n",
       "    </tr>\n",
       "    <tr>\n",
       "      <th>mobileweb</th>\n",
       "      <td>9,330,000,000</td>\n",
       "      <td>9.7%</td>\n",
       "    </tr>\n",
       "    <tr>\n",
       "      <th>previews_seen</th>\n",
       "      <td>1,930,000,000</td>\n",
       "      <td>11.1%</td>\n",
       "    </tr>\n",
       "    <tr>\n",
       "      <th>unique_devices</th>\n",
       "      <td>1,580,000,000</td>\n",
       "      <td>2.9%</td>\n",
       "    </tr>\n",
       "    <tr>\n",
       "      <th>gs_interactions</th>\n",
       "      <td>3,810,000,000</td>\n",
       "      <td>-3.3%</td>\n",
       "    </tr>\n",
       "    <tr>\n",
       "      <th>mh_interactions</th>\n",
       "      <td>765,000,000</td>\n",
       "      <td>11.9%</td>\n",
       "    </tr>\n",
       "  </tbody>\n",
       "</table>\n",
       "</div>"
      ],
      "text/plain": [
       "                          value yoy_change\n",
       "interactions     17,700,000,000       5.6%\n",
       "total_pageview   15,700,000,000       5.0%\n",
       "desktop           6,140,000,000      -1.9%\n",
       "mobileweb         9,330,000,000       9.7%\n",
       "previews_seen     1,930,000,000      11.1%\n",
       "unique_devices    1,580,000,000       2.9%\n",
       "gs_interactions   3,810,000,000      -3.3%\n",
       "mh_interactions     765,000,000      11.9%"
      ]
     },
     "execution_count": 6,
     "metadata": {},
     "output_type": "execute_result"
    }
   ],
   "source": [
    "(\n",
    "    metrics\n",
    "    .apply(calc_rpt)\n",
    "    .transpose()\n",
    "    .reindex(report_order)\n",
    "    .fillna(\"—\")\n",
    ")"
   ]
  }
 ],
 "metadata": {
  "kernelspec": {
   "display_name": "Python 3",
   "language": "python",
   "name": "python3"
  },
  "language_info": {
   "codemirror_mode": {
    "name": "ipython",
    "version": 3
   },
   "file_extension": ".py",
   "mimetype": "text/x-python",
   "name": "python",
   "nbconvert_exporter": "python",
   "pygments_lexer": "ipython3",
   "version": "3.5.3"
  }
 },
 "nbformat": 4,
 "nbformat_minor": 4
}
