{
 "cells": [
  {
   "cell_type": "code",
   "execution_count": 1,
   "metadata": {},
   "outputs": [
    {
     "name": "stderr",
     "output_type": "stream",
     "text": [
      "You can find the source for `wmfdata` at https://github.com/neilpquinn/wmfdata\n"
     ]
    }
   ],
   "source": [
    "from functools import reduce\n",
    "\n",
    "from cycler import cycler\n",
    "from dateutil.relativedelta import relativedelta\n",
    "import matplotlib.pyplot as plt\n",
    "from numbers import Number\n",
    "import numpy as np\n",
    "import pandas as pd\n",
    "from scipy import stats as sstats\n",
    "import wmfdata as wmf\n",
    "from wmfdata.utils import pct_str, sig_figs\n",
    "from wmfdata.charting import pct_fmt, M_fmt, comma_fmt"
   ]
  },
  {
   "cell_type": "code",
   "execution_count": 2,
   "metadata": {},
   "outputs": [],
   "source": [
    "FILE = \"metrics/metrics.tsv\"\n",
    "metrics = pd.read_csv(FILE, sep=\"\\t\", parse_dates=[\"month\"]).set_index(\"month\")"
   ]
  },
  {
   "cell_type": "markdown",
   "metadata": {},
   "source": [
    "# Report"
   ]
  },
  {
   "cell_type": "code",
   "execution_count": 3,
   "metadata": {},
   "outputs": [],
   "source": [
    "report_order = [\n",
    "    'interactions', \n",
    "        'total_pageview',\n",
    "        'desktop', \n",
    "        'mobileweb',\n",
    "        'previews_seen',\n",
    "    'unique_devices',\n",
    "    # Global South countries\n",
    "    'gs_interactions',\n",
    "    # Mobile-heavy wikis\n",
    "    'mh_interactions'\n",
    "]"
   ]
  },
  {
   "cell_type": "code",
   "execution_count": 4,
   "metadata": {},
   "outputs": [],
   "source": [
    "def fmt_num(x):\n",
    "    if isinstance(x, Number) and not pd.isnull(x):\n",
    "        x = sig_figs(x, 3)\n",
    "        \n",
    "        if x < 5:\n",
    "            return pct_str(x)\n",
    "        else:\n",
    "            return \"{:,.0f}\".format(x)\n",
    "    else:\n",
    "        return x\n",
    "\n",
    "def calc_rpt(ser):   \n",
    "    cur = ser[-1]\n",
    "    \n",
    "    try:\n",
    "        yr_prev = ser[-13]\n",
    "        yoy_change = (cur / yr_prev) - 1\n",
    "    except IndexError:\n",
    "        yoy_change = None\n",
    "    \n",
    "        \n",
    "    \n",
    "    res = [cur, yoy_change]\n",
    "    return pd.Series(\n",
    "        [fmt_num(n) for n in res],\n",
    "        index=[\"value\", \"yoy_change\"]\n",
    "    )"
   ]
  },
  {
   "cell_type": "code",
   "execution_count": 5,
   "metadata": {},
   "outputs": [
    {
     "data": {
      "text/html": [
       "<div>\n",
       "<style scoped>\n",
       "    .dataframe tbody tr th:only-of-type {\n",
       "        vertical-align: middle;\n",
       "    }\n",
       "\n",
       "    .dataframe tbody tr th {\n",
       "        vertical-align: top;\n",
       "    }\n",
       "\n",
       "    .dataframe thead th {\n",
       "        text-align: right;\n",
       "    }\n",
       "</style>\n",
       "<table border=\"1\" class=\"dataframe\">\n",
       "  <thead>\n",
       "    <tr style=\"text-align: right;\">\n",
       "      <th></th>\n",
       "      <th>value</th>\n",
       "      <th>yoy_change</th>\n",
       "    </tr>\n",
       "  </thead>\n",
       "  <tbody>\n",
       "    <tr>\n",
       "      <th>interactions</th>\n",
       "      <td>19,200,000,000</td>\n",
       "      <td>2.1%</td>\n",
       "    </tr>\n",
       "    <tr>\n",
       "      <th>total_pageview</th>\n",
       "      <td>17,100,000,000</td>\n",
       "      <td>1.5%</td>\n",
       "    </tr>\n",
       "    <tr>\n",
       "      <th>desktop</th>\n",
       "      <td>6,600,000,000</td>\n",
       "      <td>-5.5%</td>\n",
       "    </tr>\n",
       "    <tr>\n",
       "      <th>mobileweb</th>\n",
       "      <td>10,200,000,000</td>\n",
       "      <td>6.3%</td>\n",
       "    </tr>\n",
       "    <tr>\n",
       "      <th>previews_seen</th>\n",
       "      <td>2,100,000,000</td>\n",
       "      <td>7.0%</td>\n",
       "    </tr>\n",
       "    <tr>\n",
       "      <th>unique_devices</th>\n",
       "      <td>1,640,000,000</td>\n",
       "      <td>3.5%</td>\n",
       "    </tr>\n",
       "    <tr>\n",
       "      <th>gs_interactions</th>\n",
       "      <td>4,000,000,000</td>\n",
       "      <td>-6.0%</td>\n",
       "    </tr>\n",
       "    <tr>\n",
       "      <th>mh_interactions</th>\n",
       "      <td>820,000,000</td>\n",
       "      <td>9.9%</td>\n",
       "    </tr>\n",
       "  </tbody>\n",
       "</table>\n",
       "</div>"
      ],
      "text/plain": [
       "                          value yoy_change\n",
       "interactions     19,200,000,000       2.1%\n",
       "total_pageview   17,100,000,000       1.5%\n",
       "desktop           6,600,000,000      -5.5%\n",
       "mobileweb        10,200,000,000       6.3%\n",
       "previews_seen     2,100,000,000       7.0%\n",
       "unique_devices    1,640,000,000       3.5%\n",
       "gs_interactions   4,000,000,000      -6.0%\n",
       "mh_interactions     820,000,000       9.9%"
      ]
     },
     "execution_count": 5,
     "metadata": {},
     "output_type": "execute_result"
    }
   ],
   "source": [
    "(\n",
    "    metrics\n",
    "    .apply(calc_rpt)\n",
    "    .transpose()\n",
    "    .reindex(report_order)\n",
    "    .fillna(\"—\")\n",
    ")"
   ]
  },
  {
   "cell_type": "code",
   "execution_count": null,
   "metadata": {},
   "outputs": [],
   "source": []
  }
 ],
 "metadata": {
  "kernelspec": {
   "display_name": "Python 3",
   "language": "python",
   "name": "python3"
  },
  "language_info": {
   "codemirror_mode": {
    "name": "ipython",
    "version": 3
   },
   "file_extension": ".py",
   "mimetype": "text/x-python",
   "name": "python",
   "nbconvert_exporter": "python",
   "pygments_lexer": "ipython3",
   "version": "3.5.3"
  }
 },
 "nbformat": 4,
 "nbformat_minor": 4
}
